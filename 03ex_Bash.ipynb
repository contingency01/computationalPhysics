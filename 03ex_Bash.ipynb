{
 "cells": [
  {
   "cell_type": "markdown",
   "id": "b5746bd0",
   "metadata": {},
   "source": [
    "The following exercises are meant to be solved by gathering the bash commands incrimentally in two scripts, one for ex 1.* the other for ex 2.* "
   ]
  },
  {
   "cell_type": "markdown",
   "id": "4e60de78",
   "metadata": {},
   "source": [
    "### Ex 1"
   ]
  },
  {
   "cell_type": "markdown",
   "id": "6759df36",
   "metadata": {},
   "source": [
    "1\\.a Make a new directory called `students` in your home. Download a csv file with the list of students of this lab from [here](https://www.dropbox.com/s/867rtx3az6e9gm8/LCP_22-23_students.csv) (use the `wget` command) and copy that to `students`. First check whether the file is already there"
   ]
  },
  {
   "cell_type": "code",
   "execution_count": null,
   "id": "04d8ea79",
   "metadata": {
    "vscode": {
     "languageId": "powershell"
    }
   },
   "outputs": [],
   "source": [
    "\n",
    "mkdir -p ~/students\n",
    "\n",
    "wget -nc -P ~/students https://www.dropbox.com/s/867rtx3az6e9gm8/LCP_22-23_students.csv"
   ]
  },
  {
   "cell_type": "markdown",
   "id": "798c0c9d",
   "metadata": {},
   "source": [
    "1\\.b Make two new files, one containing the students belonging to PoD, the other to Physics."
   ]
  },
  {
   "cell_type": "code",
   "execution_count": null,
   "id": "0e9506a2",
   "metadata": {
    "vscode": {
     "languageId": "powershell"
    }
   },
   "outputs": [],
   "source": [
    "$students = Import-Csv ~/students/LCP_22-23_students.csv\n",
    "\n",
    "$students | Where-Object { $_.Department -eq 'PoD' } | Export-Csv -Path ~/students/PoD_students.csv -NoTypeInformation\n",
    "$students | Where-Object { $_.Department -eq 'Physics' } | Export-Csv -Path ~/students/Physics_students.csv -NoTypeInformation"
   ]
  },
  {
   "cell_type": "markdown",
   "id": "8a43d622",
   "metadata": {},
   "source": [
    "1\\.c For each letter of the alphabet, count the number of students whose surname starts with that letter. "
   ]
  },
  {
   "cell_type": "code",
   "execution_count": null,
   "id": "0570eec9",
   "metadata": {
    "vscode": {
     "languageId": "powershell"
    }
   },
   "outputs": [],
   "source": [
    "$alphabetCounts = @{}\n",
    "\n",
    "foreach ($letter in 'A'..'Z') {\n",
    "    $count = ($students | Where-Object { $_.Surname -like \"$letter*\" }).Count\n",
    "    $alphabetCounts[$letter] = $count\n",
    "}\n",
    "\n",
    "# Output the counts\n",
    "$alphabetCounts"
   ]
  },
  {
   "cell_type": "markdown",
   "id": "4ba6bc90",
   "metadata": {},
   "source": [
    "1\\.d Find out which is the letter with most counts."
   ]
  },
  {
   "cell_type": "code",
   "execution_count": null,
   "id": "a6f2db38",
   "metadata": {
    "vscode": {
     "languageId": "powershell"
    }
   },
   "outputs": [],
   "source": [
    "$maxLetter = $alphabetCounts.GetEnumerator() | Sort-Object -Property Value -Descending | Select-Object -First 1\n",
    "\n",
    "\n",
    "$maxLetter"
   ]
  },
  {
   "cell_type": "markdown",
   "id": "086a043c",
   "metadata": {},
   "source": [
    "1\\.e Assume an obvious numbering of the students in the file (first line is 1, second line is 2, etc.), group students \"modulo 18\", i.e. 1,19,37,.. 2,20,38,.. etc. and put each group in a separate file  "
   ]
  },
  {
   "cell_type": "code",
   "execution_count": null,
   "id": "a978ac10",
   "metadata": {
    "vscode": {
     "languageId": "powershell"
    }
   },
   "outputs": [],
   "source": [
    "$students | ForEach-Object -Begin { $i = 1 } -Process {\n",
    "    $group = ($i % 18) + 1\n",
    "    $_ | Export-Csv -Path ~/students/group_$group.csv -Append -NoTypeInformation\n",
    "    $i++\n",
    "}"
   ]
  },
  {
   "cell_type": "markdown",
   "id": "1d730d21",
   "metadata": {},
   "source": [
    "### Ex 2"
   ]
  },
  {
   "cell_type": "markdown",
   "id": "4b87ecb7",
   "metadata": {},
   "source": [
    "2.a Make a copy of the file `data.csv` removing the metadata and the commas between numbers; call it `data.txt`"
   ]
  },
  {
   "cell_type": "code",
   "execution_count": null,
   "id": "fbfc75d6",
   "metadata": {
    "vscode": {
     "languageId": "powershell"
    }
   },
   "outputs": [],
   "source": [
    "# Remove metadata and commas between numbers in data.csv and save it as data.txt\n",
    "Get-Content data.csv | ForEach-Object {\n",
    "    $_ -replace ',','' -replace 'metadata','' | Out-File -Append data.txt\n",
    "}"
   ]
  },
  {
   "cell_type": "markdown",
   "id": "344048c8",
   "metadata": {},
   "source": [
    "2\\.b How many even numbers are there?"
   ]
  },
  {
   "cell_type": "code",
   "execution_count": null,
   "id": "760f3cae",
   "metadata": {
    "vscode": {
     "languageId": "powershell"
    }
   },
   "outputs": [],
   "source": [
    "$evenCount = 0\n",
    "Get-Content data.txt | ForEach-Object {\n",
    "    $numbers = $_ -split ' '\n",
    "    foreach ($number in $numbers) {\n",
    "        if ([int]$number % 2 -eq 0) {\n",
    "            $evenCount++\n",
    "        }\n",
    "    }\n",
    "}\n",
    "\n",
    "$evenCount"
   ]
  },
  {
   "cell_type": "markdown",
   "id": "2a27138d",
   "metadata": {},
   "source": [
    "2\\.c Distinguish the entries on the basis of `sqrt(X^2 + Y^2 + Z^2)` is greater or smaller than `100*sqrt(3)/2`. Count the entries of each of the two groups "
   ]
  },
  {
   "cell_type": "code",
   "execution_count": null,
   "id": "e3b9daac",
   "metadata": {
    "vscode": {
     "languageId": "powershell"
    }
   },
   "outputs": [],
   "source": [
    "$threshold = 100 * [math]::sqrt(3) / 2\n",
    "$group1Count = 0\n",
    "$group2Count = 0\n",
    "\n",
    "Get-Content data.txt | ForEach-Object {\n",
    "    $numbers = $_ -split ' '\n",
    "    $x = [double]$numbers[0]\n",
    "    $y = [double]$numbers[1]\n",
    "    $z = [double]$numbers[2]\n",
    "    $distance = [math]::sqrt($x * $x + $y * $y + $z * $z)\n",
    "    \n",
    "    if ($distance -gt $threshold) {\n",
    "        $group1Count++\n",
    "    } else {\n",
    "        $group2Count++\n",
    "    }\n",
    "}\n",
    "\n",
    "\"Group 1 (distance > $threshold): $group1Count\"\n",
    "\"Group 2 (distance <= $threshold): $group2Count\""
   ]
  },
  {
   "cell_type": "markdown",
   "id": "e937ef4e",
   "metadata": {},
   "source": [
    "2\\.d Make `n` copies of data.txt (with `n` an input parameter of the script), where the i-th copy has all the numbers divided by i (with `1<=i<=n`)."
   ]
  },
  {
   "cell_type": "code",
   "execution_count": null,
   "id": "f5ab5e30",
   "metadata": {
    "vscode": {
     "languageId": "powershell"
    }
   },
   "outputs": [],
   "source": [
    "param (\n",
    "    [int]$n\n",
    ")\n",
    "\n",
    "for ($i = 1; $i -le $n; $i++) {\n",
    "    $outputFile = \"data_copy_$i.txt\"\n",
    "    Get-Content data.txt | ForEach-Object {\n",
    "        $numbers = $_ -split ' '\n",
    "        $newNumbers = $numbers | ForEach-Object { [double]$_ / $i }\n",
    "        $newNumbers -join ' ' | Out-File -Append $outputFile\n",
    "    }\n",
    "}"
   ]
  }
 ],
 "metadata": {
  "kernelspec": {
   "display_name": "Python 3 (ipykernel)",
   "language": "python",
   "name": "python3"
  },
  "language_info": {
   "codemirror_mode": {
    "name": "ipython",
    "version": 3
   },
   "file_extension": ".py",
   "mimetype": "text/x-python",
   "name": "python",
   "nbconvert_exporter": "python",
   "pygments_lexer": "ipython3",
   "version": "3.12.4"
  }
 },
 "nbformat": 4,
 "nbformat_minor": 5
}
