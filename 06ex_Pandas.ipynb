{
 "cells": [
  {
   "cell_type": "markdown",
   "metadata": {},
   "source": [
    "## Pandas analysis\n",
    "\n",
    "This exercise consists in analyzing a dataset containg timing information from a series of Time-to-Digital-Converters (TDC) implemented in a couple of FPGAs. Each measurement (i.e. each row of the input file) consists of a flag that specifies the type of message ('HEAD', which in this case is always 1), two addresses of the TDC providing the signal ('FPGA' and 'TDC_CHANNEL'), and the timing information ('ORBIT_CNT', 'BX_COUNTER', and 'TDC_MEAS'). Each TDC count corresponds to 25/30 ns, whereas a unit of BX_COUNTER corresponds to 25 ns, and the ORBIT_CNT is increased every 'x' BX_COUNTER. This allows to store the time in a similar way to hours, minutes and seconds."
   ]
  },
  {
   "cell_type": "code",
   "execution_count": null,
   "metadata": {},
   "outputs": [],
   "source": [
    "# If you didn't download it yet, please get the relevant file now!\n",
    "!wget https://www.dropbox.com/s/xvjzaxzz3ysphme/data_000637.txt -P ~/data/"
   ]
  },
  {
   "cell_type": "markdown",
   "metadata": {},
   "source": [
    "1\\. Create a Pandas DataFrame reading N rows of the 'data_000637.txt' dataset. Choose N to be smaller than or equal to the maximum number of rows and larger that 10k.\n",
    "\n",
    "2\\. Find out the number of BX in a ORBIT (the value 'x').\n",
    "\n",
    "3\\. Find out how much the data taking lasted. You can either make an estimate based on the fraction of the measurements (rows) you read, or perform this check precisely by reading out the whole dataset.\n",
    "\n",
    "4\\. Create a new column with the absolute time in ns (as a combination of the other three columns with timing information).\n",
    "\n",
    "5\\. Replace the values (all 1) of the HEAD column randomly with 0 or 1.\n",
    "\n",
    "6\\. Create a new DataFrame that contains only the rows with HEAD=1.\n",
    "\n",
    "7\\. Make two occupancy plots (one for each FPGA), i.e. plot the number of counts per TDC channel\n",
    "\n",
    "8\\. Use the groupby method to find out the noisy channels, i.e. the TDC channels with most counts (say the top 3)\n",
    "\n",
    "9\\. Count the number of unique orbits. Count the number of unique orbits with at least one measurement from TDC_CHANNEL=139"
   ]
  },
  {
   "cell_type": "code",
   "execution_count": 197,
   "metadata": {},
   "outputs": [
    {
     "name": "stdout",
     "output_type": "stream",
     "text": [
      "Data taking lasted: 3446490093585894975 ns\n"
     ]
    },
    {
     "data": {
      "image/png": "[encoded data removed]",
      "text/plain": [
       "<Figure size 640x480 with 1 Axes>"
      ]
     },
     "metadata": {},
     "output_type": "display_data"
    },
    {
     "name": "stdout",
     "output_type": "stream",
     "text": [
      "Noisy channels: TDC_CHANNEL\n",
      "139    860\n",
      "63     499\n",
      "64     491\n",
      "dtype: int64\n",
      "Number of unique orbits: 101\n",
      "Number of unique orbits with at least one measurement from TDC_CHANNEL=139: 101\n"
     ]
    }
   ],
   "source": [
    "import pandas as pd\n",
    "import numpy as np\n",
    "import matplotlib.pyplot as plt\n",
    "import random as r\n",
    "\n",
    "# 1\n",
    "data = pd.read_csv('data_000637.txt')\n",
    "df= pd.DataFrame(data[0:10000])\n",
    "\n",
    "# 2\n",
    "x = df['BX_COUNTER'].max()\n",
    "\n",
    "# 3\n",
    "#each TDC count corresponds to 25/30 ns\n",
    "#unit of BX_COUNTER corresponds to 25ns\n",
    "\n",
    "duration = df['ORBIT_CNT'].sum() * x  * 25 + df['BX_COUNTER'].sum() * 25+ df['TDC_MEAS'].sum() * 25\n",
    "print(f\"Data taking lasted: {duration} ns\")\n",
    "\n",
    "# 4\n",
    "#New column with the absolute time in nanoseconds\n",
    "df['ABS_TIME'] = df['ORBIT_CNT'] * x * 25 + df['BX_COUNTER'] * 25  + df['TDC_MEAS'] * 25\n",
    "\n",
    "# 5\n",
    "df['HEAD'] = np.random.randint(0, 2, size = len(df))\n",
    "\n",
    "# 6\n",
    "#New dataframe that only contains the rows with HEAD = 1\n",
    "\n",
    "dfNew = df[df['HEAD'] == 1].copy()\n",
    "\n",
    "# 7\n",
    "# Occupancy plot\n",
    "occupancy = df['TDC_CHANNEL'].value_counts().sort_index()\n",
    "\n",
    "\n",
    "plt.figure()\n",
    "plt.bar(occupancy.index, occupancy.values)\n",
    "plt.xlabel('')\n",
    "plt.show()\n",
    "\n",
    "# 8\n",
    "noisy_channels = df.groupby('TDC_CHANNEL').size().nlargest(3)\n",
    "print(f\"Noisy channels: {noisy_channels}\")\n",
    "\n",
    "# 9\n",
    "unique_orbits = df['ORBIT_CNT'].nunique()\n",
    "unique_orbits_with_139 = df[df['TDC_CHANNEL'] == 139]['ORBIT_CNT'].nunique()\n",
    "print(f\"Number of unique orbits: {unique_orbits}\")\n",
    "print(f\"Number of unique orbits with at least one measurement from TDC_CHANNEL=139: {unique_orbits_with_139}\")\n",
    "\n"
   ]
  },
  {
   "cell_type": "code",
   "execution_count": null,
   "metadata": {},
   "outputs": [],
   "source": []
  }
 ],
 "metadata": {
  "kernelspec": {
   "display_name": "Python 3 (ipykernel)",
   "language": "python",
   "name": "python3"
  },
  "language_info": {
   "codemirror_mode": {
    "name": "ipython",
    "version": 3
   },
   "file_extension": ".py",
   "mimetype": "text/x-python",
   "name": "python",
   "nbconvert_exporter": "python",
   "pygments_lexer": "ipython3",
   "version": "3.12.4"
  }
 },
 "nbformat": 4,
 "nbformat_minor": 2
}
