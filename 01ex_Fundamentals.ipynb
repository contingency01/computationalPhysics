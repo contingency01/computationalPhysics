{
 "cells": [
  {
   "cell_type": "markdown",
   "metadata": {},
   "source": [
    "0\\. Implement a function (whatever you want) and save it to a file (e.g. `function.py`). Import that file and use that function in this notebook.\n"
   ]
  },
  {
   "cell_type": "code",
   "execution_count": 39,
   "metadata": {},
   "outputs": [
    {
     "name": "stdout",
     "output_type": "stream",
     "text": [
      "10\n"
     ]
    }
   ],
   "source": [
    "import myLibrary as m\n",
    "\n",
    "print(m.sumSquares(1,3))"
   ]
  },
  {
   "cell_type": "markdown",
   "metadata": {},
   "source": [
    "1\\. Write the following as a list comprehension"
   ]
  },
  {
   "cell_type": "code",
   "execution_count": 40,
   "metadata": {},
   "outputs": [
    {
     "name": "stdout",
     "output_type": "stream",
     "text": [
      "[(0, 0), (0, 1), (0, 2), (0, 3), (1, 0), (1, 1), (1, 2), (1, 3), (2, 0), (2, 1), (2, 2), (2, 3)]\n",
      "[(0, 0), (0, 1), (0, 2), (0, 3), (1, 0), (1, 1), (1, 2), (1, 3), (2, 0), (2, 1), (2, 2), (2, 3)]\n",
      "[0, 4, 16]\n",
      "[0, 4, 16]\n"
     ]
    }
   ],
   "source": [
    "\n",
    "ans0 = []\n",
    "for i in range(3):\n",
    "    for j in range(4):\n",
    "        ans0.append((i, j))\n",
    "\n",
    "ans1 = [(i,j) for i in range(3) for j in range(4)]\n",
    "print (ans0)\n",
    "print(ans1)\n",
    "\n",
    "\n",
    "\n",
    "ans2 = map(lambda x: x*x, filter(lambda x: x%2 == 0, range(5)))\n",
    "ans3 = [x*x for x in range(5) if  x % 2== 0]\n",
    "print (list(ans2))\n",
    "print(ans3)\n",
    "\n"
   ]
  },
  {
   "cell_type": "markdown",
   "metadata": {},
   "source": [
    "2\\. Convert the following function into a pure function with no global variables or side effects"
   ]
  },
  {
   "cell_type": "code",
   "execution_count": 41,
   "metadata": {},
   "outputs": [
    {
     "name": "stdout",
     "output_type": "stream",
     "text": [
      "[0, 1, 2, 3, 4]\n",
      "[1, 2, 3]\n"
     ]
    }
   ],
   "source": [
    "\n",
    "def f(alist):\n",
    "    x = 5\n",
    "    alist =[]\n",
    "    for i in range(x):\n",
    "         alist.append(i)\n",
    "    return alist\n",
    "\n",
    "alist = [1,2,3]\n",
    "ans = f(alist)\n",
    "print (ans)\n",
    "print (alist) # alist has been changed!"
   ]
  },
  {
   "cell_type": "markdown",
   "metadata": {},
   "source": [
    "3\\. Write a `decorator` hello that makes every wrapped function print “Hello!”, i.e. something like:\n",
    "\n",
    "```python\n",
    "@hello\n",
    "def square(density):\n",
    "    return density*density\n",
    "```\n",
    "\n"
   ]
  },
  {
   "cell_type": "code",
   "execution_count": 42,
   "metadata": {},
   "outputs": [],
   "source": [
    "def hello(func):\n",
    "    def wrapper():\n",
    "        print(\"Before\")\n",
    "        func()\n",
    "        print(\"After (Hello btw)\")\n",
    "    return wrapper\n",
    "\n",
    "\n",
    "@hello\n",
    "def someFunction():\n",
    "    print(\"this function does not output Hello\")\n"
   ]
  },
  {
   "cell_type": "code",
   "execution_count": 43,
   "metadata": {},
   "outputs": [
    {
     "name": "stdout",
     "output_type": "stream",
     "text": [
      "<function hello.<locals>.wrapper at 0x10724b9c0>\n",
      "Before\n",
      "this function does not output Hello\n",
      "After (Hello btw)\n"
     ]
    }
   ],
   "source": [
    "print(someFunction)\n",
    "someFunction()"
   ]
  },
  {
   "cell_type": "markdown",
   "metadata": {},
   "source": [
    "4\\. Write the factorial function so that it a) does and b) does not use recursion."
   ]
  },
  {
   "cell_type": "code",
   "execution_count": 44,
   "metadata": {},
   "outputs": [
    {
     "name": "stdout",
     "output_type": "stream",
     "text": [
      "120\n"
     ]
    },
    {
     "data": {
      "text/plain": [
       "120"
      ]
     },
     "execution_count": 44,
     "metadata": {},
     "output_type": "execute_result"
    }
   ],
   "source": [
    "def factorial(x):\n",
    "    result = 1\n",
    "    for i in range(x):\n",
    "        result *= (x - i)\n",
    "    print(result)\n",
    "\n",
    "factorial(5)\n",
    "\n",
    "\n",
    "def recursiveFactorial(x):\n",
    "    if x == 1 or x == 0:\n",
    "        return 1\n",
    "    else: \n",
    "        return x * recursiveFactorial(x - 1)\n",
    "\n",
    "recursiveFactorial(5)\n",
    "        \n",
    "        \n"
   ]
  },
  {
   "cell_type": "markdown",
   "metadata": {},
   "source": [
    "5\\. Use HOFs (zip in particular) to compute the weight of a circle, a disk and a sphere, assuming different radii and different densities:\n",
    "\n",
    "```python\n",
    "densities = {\"Al\":[0.5,1,2],\"Fe\":[3,4,5],\"Pb\": [15,20,30]}\n",
    "radii = [1,2,3]\n",
    "```\n",
    "\n",
    "where the entries of the dictionary's values are the linear, superficial and volumetric densities of the materials respectively.\n",
    "\n",
    "In particular define a list of three lambda functions using a comprehension that computes the circumference, the area and the volume for a given radius.\n"
   ]
  },
  {
   "cell_type": "code",
   "execution_count": 45,
   "metadata": {},
   "outputs": [
    {
     "name": "stdout",
     "output_type": "stream",
     "text": [
      "Aluminum mass for formula 1: 3.141592653589793\n",
      "Aluminum mass for formula 2: 12.566370614359172\n",
      "Aluminum mass for formula 3: 226.19467105846508\n",
      "Iron mass for formula 1: 3.141592653589793\n",
      "Iron mass for formula 2: 12.566370614359172\n",
      "Iron mass for formula 3: 226.19467105846508\n",
      "Lead mass for formula 1: 3.141592653589793\n",
      "Lead mass for formula 2: 12.566370614359172\n",
      "Lead mass for formula 3: 226.19467105846508\n"
     ]
    }
   ],
   "source": [
    "import numpy as np\n",
    "\n",
    "densities = {\"Al\": [0.5, 1, 2], \"Fe\": [3, 4, 5], \"Pb\": [15, 20, 30]}\n",
    "radii = [1, 2, 3]\n",
    "\n",
    "# List of formulas to apply in each iteration\n",
    "formulas = [\n",
    "    lambda density, radius: 2 * np.pi * density * radius,          # Circle\n",
    "    lambda density, radius: np.pi * density * radius**2,           # Disk\n",
    "    lambda density, radius: 4/3 * np.pi * density * radius** 3     # Sphere\n",
    "]\n",
    "\n",
    "def Aluminum():\n",
    "    for i, (density, radius) in enumerate(zip(densities[\"Al\"], radii)):\n",
    "        result = formulas[i](density, radius)\n",
    "        print(f\"Aluminum mass for formula {i+1}:\", result)\n",
    "\n",
    "def Iron():\n",
    "    for i, (density, radius) in enumerate(zip(densities[\"Al\"], radii)):\n",
    "        result = formulas[i](density, radius)\n",
    "        print(f\"Iron mass for formula {i+1}:\", result)\n",
    "\n",
    "def Lead():\n",
    "    for i, (density, radius) in enumerate(zip(densities[\"Al\"], radii)):\n",
    "        result = formulas[i](density, radius)\n",
    "        print(f\"Lead mass for formula {i+1}:\", result)\n",
    "\n",
    "Aluminum()\n",
    "Iron()\n",
    "Lead()\n",
    "    "
   ]
  },
  {
   "cell_type": "markdown",
   "metadata": {},
   "source": [
    "6\\. Edit the class defintion to add an instance attribute of is_hungry = True to the Dog class. Then add a method called eat() which changes the value of is_hungry to False when called. Figure out the best way to feed each dog and then output “My dogs are hungry.” if all are hungry or “My dogs are not hungry.” if all are not hungry. The final output should look like this:\n",
    "\n",
    "`I have 3 dogs. \n",
    "Tom is 6. \n",
    "Fletcher is 7. \n",
    "Larry is 9. \n",
    "And they're all mammals, of course. \n",
    "My dogs are not hungry.\n",
    "`\n"
   ]
  },
  {
   "cell_type": "code",
   "execution_count": 100,
   "metadata": {},
   "outputs": [
    {
     "name": "stdout",
     "output_type": "stream",
     "text": [
      "I have 3 dogs, Tom is 6 . Fletcher is 7 . Larry is 9 .\n",
      "And they are all mammals, of course.\n",
      "They are all not hungry\n"
     ]
    }
   ],
   "source": [
    "# Parent class\n",
    "class Dog:\n",
    "\n",
    "    # Class attribute\n",
    "    species = 'mammal'\n",
    "\n",
    "    # Initializer / Instance attributes\n",
    "    def __init__(self, name, age, isHungry):\n",
    "        self.name = name\n",
    "        self.age = age\n",
    "        self.isHungry = isHungry\n",
    "\n",
    "    # Instance method\n",
    "    def description(self):\n",
    "        return \"{} is {} years old\".format(self.name, self.age)\n",
    "\n",
    "    # Instance method\n",
    "    def speak(self, sound):\n",
    "        return \"{} says {}\".format(self.name, sound)\n",
    "\n",
    "    # New instance method\n",
    "    def eat(self):\n",
    "        self.isHungry = False\n",
    "        return \"{} has eaten and is no longer hungry.\".format(self.name)\n",
    "\n",
    "\n",
    "Tom = Dog(\"Tom\", 6, True)\n",
    "Fletcher = Dog(\"Fletcher\", 7, True)\n",
    "Larry = Dog(\"Larry\", 9, True)\n",
    "\n",
    "\n",
    "def feedTheDogs():\n",
    "    Tom.eat()\n",
    "    Fletcher.eat()\n",
    "    Larry.eat()\n",
    "\n",
    "\n",
    "feedTheDogs()\n",
    "print(\"I have 3 dogs,\",Tom.name ,\"is\",Tom.age,\".\",Fletcher.name ,\"is\",Fletcher.age,\".\",Larry.name ,\"is\",Larry.age,\".\")\n",
    "print(\"And they are all\", Dog.species + \"s, of course.\")\n",
    "print((\"They are all not hungry\") if (Tom.isHungry + Fletcher.isHungry + Larry.isHungry == False) else (\"They are all hungry.\"))\n",
    "\n",
    "\n",
    "# # Child class (inherits from Dog class)\n",
    "# class RussellTerrier(Dog):\n",
    "#     def run(self, speed):\n",
    "#         return \"{} runs {}\".format(self.name, speed)\n",
    "\n",
    "# # Child class (inherits from Dog class)\n",
    "# class Bulldog(Dog):\n",
    "#     def run(self, speed):\n",
    "#         return \"{} runs {}\".format(self.name, speed)"
   ]
  },
  {
   "cell_type": "code",
   "execution_count": null,
   "metadata": {},
   "outputs": [],
   "source": []
  }
 ],
 "metadata": {
  "kernelspec": {
   "display_name": "Python 3 (ipykernel)",
   "language": "python",
   "name": "python3"
  },
  "language_info": {
   "codemirror_mode": {
    "name": "ipython",
    "version": 3
   },
   "file_extension": ".py",
   "mimetype": "text/x-python",
   "name": "python",
   "nbconvert_exporter": "python",
   "pygments_lexer": "ipython3",
   "version": "3.12.4"
  }
 },
 "nbformat": 4,
 "nbformat_minor": 2
}
