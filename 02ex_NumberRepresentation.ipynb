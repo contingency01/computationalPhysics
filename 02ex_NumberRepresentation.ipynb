{
 "cells": [
  {
   "cell_type": "markdown",
   "metadata": {},
   "source": [
    "1\\. Write a function that converts number representation, bin<->dec<->hex. (Clearly using the corresponding python built-in functions is not fair..)"
   ]
  },
  {
   "cell_type": "code",
   "execution_count": 5,
   "metadata": {},
   "outputs": [],
   "source": [
    "def convert_number(input_number: str, from_base: int, to_base: int) -> str:\n",
    "    if from_base not in (2, 10, 16) or to_base not in (2, 10, 16):\n",
    "        raise ValueError(\"Supported bases are 2 (binary), 10 (decimal), and 16 (hexadecimal).\")\n",
    "\n",
    "    # Convert input to decimal\n",
    "    decimal_value = 0\n",
    "    if from_base == 2:  # Binary to Decimal\n",
    "        for i, digit in enumerate(reversed(input_number)):\n",
    "            decimal_value += int(digit) * (2 ** i)\n",
    "    elif from_base == 16:  # Hexadecimal to Decimal\n",
    "        hex_map = {ch: val for val, ch in enumerate(\"0123456789ABCDEF\")}\n",
    "        for i, digit in enumerate(reversed(input_number.upper())):\n",
    "            decimal_value += hex_map[digit] * (16 ** i)\n",
    "    else:  # Already Decimal\n",
    "        decimal_value = int(input_number)\n",
    "\n",
    "    # Convert decimal to target base\n",
    "    if to_base == 10:\n",
    "        return str(decimal_value)  # Decimal output\n",
    "\n",
    "    converted_number = \"\"\n",
    "    if to_base == 2:  # Decimal to Binary\n",
    "        while decimal_value > 0:\n",
    "            converted_number = str(decimal_value % 2) + converted_number\n",
    "            decimal_value //= 2\n",
    "    elif to_base == 16:  # Decimal to Hexadecimal\n",
    "        hex_map = \"0123456789ABCDEF\"\n",
    "        while decimal_value > 0:\n",
    "            converted_number = hex_map[decimal_value % 16] + converted_number\n",
    "            decimal_value //= 16\n",
    "\n",
    "    return converted_number or \"0\"  # Return \"0\" if input was 0\n",
    "\n",
    "    convert_number(100110101, 2, 16)\n"
   ]
  },
  {
   "cell_type": "markdown",
   "metadata": {},
   "source": [
    "2\\. Write a function that converts a 32 bit word into a single precision floating point (i.e. interprets the various bits as sign, mantissa and exponent)"
   ]
  },
  {
   "cell_type": "code",
   "execution_count": null,
   "metadata": {},
   "outputs": [],
   "source": [
    "def bitsToFloat(binary_word):\n",
    "    if not (0 <= binary_word <= 0xFFFFFFFF):\n",
    "        raise ValueError(\"Input must be a 32-bit unsigned integer.\")\n",
    "    \n",
    "    # Extract sign (1 bit), exponent (8 bits), and mantissa (23 bits)\n",
    "    sign = (binary_word >> 31) & 0x1\n",
    "    exponent = (binary_word >> 23) & 0xFF\n",
    "    mantissa = binary_word & 0x7FFFFF\n",
    "\n",
    "    # Compute the actual value\n",
    "    sign_factor = -1 if sign == 1 else 1\n",
    "\n",
    "    if exponent == 0xFF:  # Special cases: Inf or NaN\n",
    "        if mantissa == 0:\n",
    "            return float('inf') * sign_factor\n",
    "        else:\n",
    "            return float('nan')\n",
    "    elif exponent == 0:  # Denormalized numbers or zero\n",
    "        actual_exponent = -126\n",
    "        value = sign_factor * (mantissa / (2 ** 23)) * (2 ** actual_exponent)\n",
    "    else:  # Normalized numbers\n",
    "        actual_exponent = exponent - 127\n",
    "        value = sign_factor * (1 + mantissa / (2 ** 23)) * (2 ** actual_exponent)\n",
    "    \n",
    "    return value\n",
    "\n",
    "bits_to_float(0xC1A00000)"
   ]
  },
  {
   "cell_type": "markdown",
   "metadata": {},
   "source": [
    "3\\. Write a program to determine the underflow and overflow limits (within a factor of 2) for python on your computer. \n",
    "\n",
    "**Tips**: define two variables inizialized to 1 and halve/double them enough time to exceed the under/over-flow limits  "
   ]
  },
  {
   "cell_type": "code",
   "execution_count": null,
   "metadata": {},
   "outputs": [],
   "source": [
    "a = 1\n",
    "i = 1\n",
    "# while i < 100:\n",
    "#     a = a/2\n",
    "#     print(a)\n",
    "#     if a == 0.0:\n",
    "#         break\n",
    "\n",
    "while i < 100:\n",
    "    a = a*2\n",
    "    print(a)"
   ]
  },
  {
   "cell_type": "markdown",
   "metadata": {},
   "source": [
    "4\\. Write a program to determine the machine precision\n",
    "\n",
    "**Tips**: define a new variable by adding a smaller and smaller value (proceeding similarly to prob. 2) to an original variable and check the point where the two are the same "
   ]
  },
  {
   "cell_type": "code",
   "execution_count": null,
   "metadata": {},
   "outputs": [],
   "source": [
    "def machinePrecision():\n",
    "    epsilon = 1.0\n",
    "    while 1.0 + epsilon != 1.0:\n",
    "        epsilon /= 2.0\n",
    "    return epsilon * 2.0  # The last value before it became indistinguishable\n",
    "\n",
    "precision = machinePrecision()\n",
    "print(f\"Machine precision (epsilon): {precision}\")"
   ]
  },
  {
   "cell_type": "markdown",
   "metadata": {},
   "source": [
    "5\\. Write a function that takes in input three parameters $a$, $b$ and $c$ and prints out the two solutions to the quadratic equation $ax^2+bx+c=0$ using the standard formula:\n",
    "$$\n",
    "x=\\frac{-b\\pm\\sqrt{b^2-4ac}}{2a}\n",
    "$$\n",
    "\n",
    "(a) use the program to compute the solution for $a=0.001$, $b=1000$ and $c=0.001$\n",
    "\n",
    "(b) re-express the standard solution formula by multiplying top and bottom by $-b\\mp\\sqrt{b^2-4ac}$ and again find the solution for $a=0.001$, $b=1000$ and $c=0.001$. How does it compare with what previously obtained? Why?\n",
    "\n",
    "(c) write a function that compute the roots of a quadratic equation accurately in all cases"
   ]
  },
  {
   "cell_type": "code",
   "execution_count": null,
   "metadata": {},
   "outputs": [],
   "source": [
    "import math\n",
    "\n",
    "def quadratic_roots_standard(a, b, c):\n",
    "    if a == 0:\n",
    "        raise ValueError(\"Coefficient 'a' cannot be zero.\")\n",
    "    \n",
    "    discriminant = b**2 - 4*a*c\n",
    "    if discriminant < 0:\n",
    "        raise ValueError(\"The equation has complex roots.\")\n",
    "    \n",
    "    root1 = (-b + math.sqrt(discriminant)) / (2 * a)\n",
    "    root2 = (-b - math.sqrt(discriminant)) / (2 * a)\n",
    "    return root1, root2\n",
    "\n",
    "# Part (a)\n",
    "a, b, c = 0.001, 1000, 0.001\n",
    "roots = quadratic_roots_standard(a, b, c)\n",
    "print(f\"Roots : {roots}\")\n"
   ]
  },
  {
   "cell_type": "markdown",
   "metadata": {},
   "source": [
    "6\\. Write a program that implements the function $f(x)=x(x−1)$\n",
    "\n",
    "(a) Calculate the derivative of the function at the point $x = 1$ using the derivative definition:\n",
    "\n",
    "$$\n",
    "\\frac{{\\rm d}f}{{\\rm d}x} = \\lim_{\\delta\\to0} \\frac{f(x+\\delta)-f(x)}{\\delta}\n",
    "$$\n",
    "\n",
    "with $\\delta = 10^{−2}$. Calculate the true value of the same derivative analytically and compare with the answer your program gives. The two will not agree perfectly. Why not?\n",
    "\n",
    "(b) Repeat the calculation for $\\delta = 10^{−4}, 10^{−6}, 10^{−8}, 10^{−10}, 10^{−12}$ and $10^{−14}$. How does the accuracy scales with $\\delta$?"
   ]
  },
  {
   "cell_type": "code",
   "execution_count": null,
   "metadata": {},
   "outputs": [],
   "source": [
    "import numpy as np\n",
    "\n",
    "def f(x):\n",
    "    return x * (x - 1)\n",
    "\n",
    "def numerical_derivative(x, delta):\n",
    "    return (f(x + delta) - f(x)) / delta\n",
    "\n",
    "def analytical_derivative(x):\n",
    "    return 2 * x - 1\n",
    "\n",
    "x = 1\n",
    "\n",
    "deltas = [10**(-2), 10**(-4), 10**(-6), 10**(-8), 10**(-10), 10**(-12), 10**(-14)]\n",
    "\n",
    "true_value = analytical_derivative(x)\n",
    "print(f\"True value of derivative at x = {x}: {true_value}\")\n",
    "print(\"\\nResults:\")\n",
    "\n",
    "for delta in deltas:\n",
    "    numerical_value = numerical_derivative(x, delta)\n",
    "    error = abs(numerical_value - true_value)\n",
    "    print(f\"Delta = {delta:.1e}, Numerical Derivative = {numerical_value:.5e}, Error = {error:.5e}\")"
   ]
  },
  {
   "cell_type": "markdown",
   "metadata": {},
   "source": [
    "7\\. Consider the integral of the semicircle of radius 1:\n",
    "$$\n",
    "I=\\int_{-1}^{1} \\sqrt(1-x^2) {\\rm d}x\n",
    "$$\n",
    "which it's known to be $I=\\frac{\\pi}{2}=1.57079632679...$.\n",
    "Alternatively we can use the Riemann definition of the integral:\n",
    "$$\n",
    "I=\\lim_{N\\to\\infty} \\sum_{k=1}^{N} h y_k \n",
    "$$\n",
    "\n",
    "with $h=2/N$ the width of each of the $N$ slices the domain is divided into and where\n",
    "$y_k$ is the value of the function at the $k-$th slice.\n",
    "\n",
    "(a) Write a programe to compute the integral with $N=100$. How does the result compares to the true value?\n",
    "\n",
    "(b) How much can $N$ be increased if the computation needs to be run in less than a second? What is the gain in running it for 1 minute? \n"
   ]
  },
  {
   "cell_type": "code",
   "execution_count": null,
   "metadata": {},
   "outputs": [],
   "source": [
    "import math\n",
    "import time\n",
    "\n",
    "def semicircle_integral(N):\n",
    "    h = 2 / N  # Width of each slice\n",
    "    integral_sum = 0\n",
    "\n",
    "    for k in range(1, N + 1):\n",
    "        x_k = -1 + (k - 0.5) * h  # Midpoint of the k-th slice\n",
    "        y_k = math.sqrt(1 - x_k**2)\n",
    "        integral_sum += h * y_k\n",
    "    \n",
    "    return integral_sum\n",
    "\n",
    "# Part (a)\n",
    "N = 100\n",
    "approximation = semicircle_integral(N)\n",
    "true_value = math.pi / 2\n",
    "\n",
    "print(f\"Approximation with N={N}: {approximation:.12f}\")\n",
    "print(f\"True value: {true_value:.12f}\")\n",
    "print(f\"Error: {abs(approximation - true_value):.12f}\")\n"
   ]
  }
 ],
 "metadata": {
  "kernelspec": {
   "display_name": "Python 3 (ipykernel)",
   "language": "python",
   "name": "python3"
  },
  "language_info": {
   "codemirror_mode": {
    "name": "ipython",
    "version": 3
   },
   "file_extension": ".py",
   "mimetype": "text/x-python",
   "name": "python",
   "nbconvert_exporter": "python",
   "pygments_lexer": "ipython3",
   "version": "3.12.4"
  }
 },
 "nbformat": 4,
 "nbformat_minor": 2
}
