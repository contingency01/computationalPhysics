{
 "cells": [
  {
   "cell_type": "markdown",
   "metadata": {},
   "source": [
    "1. The MickeyMouse problem\n",
    "\n",
    "a) Write a program that prints the numbers from 1 to 100. But for multiples of 3 print `Mickey` instead of the corresponding number and for the multiples of 5 print `Mouse`. For numbers which are multiples of both three and five print `MickeyMouse`\n",
    "\n",
    "b) Put the result in a tuple and substitute `Mickey` with `Donald` and `Mouse` with `Duck`"
   ]
  },
  {
   "cell_type": "code",
   "execution_count": 13,
   "metadata": {},
   "outputs": [
    {
     "name": "stdout",
     "output_type": "stream",
     "text": [
      "[1, 2, 'Mickey', 4, 'Mouse', 'Mickey', 7, 8, 'Mickey', 'Mouse', 11, 'Mickey', 13, 14, 'MickeyMouse', 16, 17, 'Mickey', 19, 'Mouse', 'Mickey', 22, 23, 'Mickey', 'Mouse', 26, 'Mickey', 28, 29, 'MickeyMouse', 31, 32, 'Mickey', 34, 'Mouse', 'Mickey', 37, 38, 'Mickey', 'Mouse', 41, 'Mickey', 43, 44, 'MickeyMouse', 46, 47, 'Mickey', 49, 'Mouse', 'Mickey', 52, 53, 'Mickey', 'Mouse', 56, 'Mickey', 58, 59, 'MickeyMouse', 61, 62, 'Mickey', 64, 'Mouse', 'Mickey', 67, 68, 'Mickey', 'Mouse', 71, 'Mickey', 73, 74, 'MickeyMouse', 76, 77, 'Mickey', 79, 'Mouse', 'Mickey', 82, 83, 'Mickey', 'Mouse', 86, 'Mickey', 88, 89, 'MickeyMouse', 91, 92, 'Mickey', 94, 'Mouse', 'Mickey', 97, 98, 'Mickey', 'Mouse']\n",
      "(1, 2, 'Donald', 4, 'Duck', 'Donald', 7, 8, 'Donald', 'Duck', 11, 'Donald', 13, 14, 'DonaldDuck', 16, 17, 'Donald', 19, 'Duck', 'Donald', 22, 23, 'Donald', 'Duck', 26, 'Donald', 28, 29, 'DonaldDuck', 31, 32, 'Donald', 34, 'Duck', 'Donald', 37, 38, 'Donald', 'Duck', 41, 'Donald', 43, 44, 'DonaldDuck', 46, 47, 'Donald', 49, 'Duck', 'Donald', 52, 53, 'Donald', 'Duck', 56, 'Donald', 58, 59, 'DonaldDuck', 61, 62, 'Donald', 64, 'Duck', 'Donald', 67, 68, 'Donald', 'Duck', 71, 'Donald', 73, 74, 'DonaldDuck', 76, 77, 'Donald', 79, 'Duck', 'Donald', 82, 83, 'Donald', 'Duck', 86, 'Donald', 88, 89, 'DonaldDuck', 91, 92, 'Donald', 94, 'Duck', 'Donald', 97, 98, 'Donald', 'Duck')\n"
     ]
    }
   ],
   "source": [
    "donaldDuck = ()\n",
    "mickeyMouse = []\n",
    "\n",
    "i = 1\n",
    "while i < 101:\n",
    "    if i % 3 == 0 and i%5 != 0:\n",
    "        # print(\"Mickey\")\n",
    "        mickeyMouse.append(\"Mickey\")\n",
    "        donaldDuck += (\"Donald\",)\n",
    "    elif i % 5 ==0 and i%3 != 0:\n",
    "        # print(\"Mouse\")\n",
    "        mickeyMouse.append(\"Mouse\")\n",
    "        donaldDuck += (\"Duck\",)\n",
    "    elif i % 3 == 0 and i % 5 == 0:\n",
    "        # print(\"MickeyMouse\")\n",
    "        mickeyMouse.append(\"MickeyMouse\")\n",
    "        donaldDuck += (\"DonaldDuck\",)\n",
    "    else:\n",
    "        # print(i)\n",
    "        mickeyMouse.append(i)\n",
    "        donaldDuck += (i,)\n",
    "    i = i + 1  \n",
    "\n",
    "print(mickeyMouse)\n",
    "print(donaldDuck)\n",
    "\n",
    "\n",
    "\n",
    "    "
   ]
  },
  {
   "cell_type": "markdown",
   "metadata": {},
   "source": [
    "2\\. The swap function\n",
    "\n",
    "Write a function that swap the values of two input variables x and y (whatever the type). Try to do that also without a temporary variable"
   ]
  },
  {
   "cell_type": "code",
   "execution_count": 18,
   "metadata": {},
   "outputs": [
    {
     "name": "stdout",
     "output_type": "stream",
     "text": [
      "Egg Chicken \n"
     ]
    }
   ],
   "source": [
    "x = \"Chicken \"\n",
    "y = \"Egg \"\n",
    "xtemp = 0\n",
    "ytemp = 0\n",
    "\n",
    "def swapper(x, y):\n",
    "    xtemp = x\n",
    "    ytemp = y\n",
    "\n",
    "    x = ytemp\n",
    "    y = xtemp\n",
    "\n",
    "    print(x + y)\n",
    "\n",
    "swapper(x, y)\n"
   ]
  },
  {
   "cell_type": "markdown",
   "metadata": {},
   "source": [
    "3\\. Computing the distance\n",
    "\n",
    "Write a function that calculates and returns the euclidean distance between two points *u* and *v*, where *u* and *v* are both 2-tuples *(x,y)*. For example, if *u=(3,0)* and *v=(0,4)*, the function should return 5"
   ]
  },
  {
   "cell_type": "code",
   "execution_count": 19,
   "metadata": {},
   "outputs": [
    {
     "name": "stdout",
     "output_type": "stream",
     "text": [
      "3.0\n"
     ]
    }
   ],
   "source": [
    "import numpy as np\n",
    "u  = [3 ,4]\n",
    "v = [0 ,4]\n",
    "\n",
    "\n",
    "def distance(x, y):\n",
    "    r = 0\n",
    "    e = (x[0] - y[0])**2 + (x[1] - y[1])**2\n",
    "\n",
    "    r = np.sqrt(e)\n",
    "    print(r)\n",
    "\n",
    "distance(u,v)"
   ]
  },
  {
   "cell_type": "markdown",
   "metadata": {},
   "source": [
    "4\\. Counting letters\n",
    "\n",
    "Write a program to calculate the number of times each character occurs in a given string *s*. Ignore differneces in capitalization"
   ]
  },
  {
   "cell_type": "code",
   "execution_count": 21,
   "metadata": {},
   "outputs": [],
   "source": [
    "s=\"Write a program that prints the numbers from 1 to 100. \\\n",
    "But for multiples of three print Mickey instead of the number and for the multiples of five print Mouse. \\\n",
    "For numbers which are multiples of both three and five print MickeyMouse\""
   ]
  },
  {
   "cell_type": "code",
   "execution_count": 22,
   "metadata": {},
   "outputs": [
    {
     "name": "stdout",
     "output_type": "stream",
     "text": [
      "{'a': 7, 'b': 4, 'c': 3, 'd': 3, 'e': 22, 'f': 9, 'g': 1, 'h': 9, 'i': 14, 'j': 0, 'k': 2, 'l': 6, 'm': 8, 'n': 10, 'o': 13, 'p': 8, 'r': 17, 's': 9, 't': 19, 'u': 9, 'v': 2, 'x': 0, 'y': 2, 'z': 0}\n"
     ]
    }
   ],
   "source": [
    "count = 0\n",
    "i = 0\n",
    "j = 0\n",
    "k = 0\n",
    "letterCount = {}\n",
    "\n",
    "alphabet = [\"a\", \"b\", \"c\", \"d\", \"e\", \"f\", \"g\", \"h\", \"i\", \"j\", \"k\", \"l\", \"m\", \"n\", \"o\", \"p\", \"r\", \"s\", \"t\", \"u\", \"v\", \"x\", \"y\", \"z\"]\n",
    "alphabetCount = []\n",
    "\n",
    "\n",
    "while k < len(alphabet):\n",
    "    alphabetCount.append(0)\n",
    "    k += 1\n",
    "\n",
    "while i < len(alphabet):\n",
    "    char = alphabet[i]\n",
    "    j = 0\n",
    "    while j < len(s):\n",
    "        if s[j] == char:\n",
    "            alphabetCount[i] += 1\n",
    "        j += 1\n",
    "    i += 1\n",
    "\n",
    "for letter in range(len(alphabet)):\n",
    "    letterCount.update({alphabet[letter] : alphabetCount[letter]})  # Such that each letter has a dictionary entry\n",
    "\n",
    "print(letterCount)\n",
    "\n",
    "\n",
    "\n"
   ]
  },
  {
   "cell_type": "markdown",
   "metadata": {},
   "source": [
    "5\\. Isolating the unique\n",
    "\n",
    "Write a function that determines and count the unique numbers in the list *l*"
   ]
  },
  {
   "cell_type": "code",
   "execution_count": 19,
   "metadata": {},
   "outputs": [
    {
     "name": "stdout",
     "output_type": "stream",
     "text": [
      "Uniques:  {36: 3, 45: 3, 58: 1, 3: 2, 74: 1, 96: 1, 64: 1, 31: 2, 10: 1, 24: 1, 19: 1, 33: 1, 86: 1, 99: 1, 18: 1, 63: 2, 70: 3, 85: 3, 47: 1, 56: 2, 42: 2, 84: 4, 88: 1, 55: 1, 20: 3, 54: 1, 8: 1, 51: 3, 79: 1, 81: 1, 57: 1, 37: 1, 91: 3, 1: 1, 66: 2, 9: 1, 89: 2, 50: 2, 95: 1, 90: 1, 98: 1, 39: 1, 16: 1, 82: 1, 92: 1, 41: 1, 30: 1, 34: 2, 94: 1, 5: 1, 72: 1, 87: 1, 75: 1, 53: 1}\n"
     ]
    }
   ],
   "source": [
    "l = [36, 45, 58, 3, 74, 96, 64, 45, 31, 10, 24, 19, 33, 86, 99, 18, 63, 70, 85,\n",
    " 85, 63, 47, 56, 42, 70, 84, 88, 55, 20, 54, 8, 56, 51, 79, 81, 57, 37, 91,\n",
    " 1, 84, 84, 36, 66, 9, 89, 50, 42, 91, 50, 95, 90, 98, 39, 16, 82, 31, 92, 41,\n",
    " 45, 30, 66, 70, 34, 85, 94, 5, 3, 36, 72, 91, 84, 34, 87, 75, 53, 51, 20, 89, 51, 20]\n",
    "\n",
    "uniques = {}\n",
    "\n",
    "for i in range(len(l)):\n",
    "    if l[i] not in uniques:\n",
    "        uniques.update({l[i]: 1})\n",
    "    elif l[i] in uniques:\n",
    "        uniques[l[i]] += 1\n",
    "\n",
    "    i += 1\n",
    "\n",
    "print(\"Uniques: \", uniques)\n"
   ]
  },
  {
   "cell_type": "markdown",
   "metadata": {},
   "source": [
    "6\\. Combination of functions\n",
    "\n",
    "Write two functions - one that returns the square of a number, and one that returns the cube. Now write a third function that returns the number raised to the 6th power using the two previous functions."
   ]
  },
  {
   "cell_type": "code",
   "execution_count": 71,
   "metadata": {},
   "outputs": [
    {
     "name": "stdout",
     "output_type": "stream",
     "text": [
      "64\n"
     ]
    }
   ],
   "source": [
    "\n",
    "\n",
    "def square(a):\n",
    "    result = a**2\n",
    "    return result\n",
    "def cube(a):\n",
    "    result = a**3\n",
    "    return result\n",
    "\n",
    "\n",
    "def sixthPower(a):\n",
    "    result = (cube(square(a)))\n",
    "    return result\n",
    "\n",
    "\n",
    "print(sixthPower(2))\n"
   ]
  },
  {
   "cell_type": "markdown",
   "metadata": {},
   "source": [
    "7\\. Cubes\n",
    "\n",
    "Create a list of the cubes of x for x in *[0, 10]* using:\n",
    "\n",
    "a) a for loop\n",
    "\n",
    "b) a list comprehension"
   ]
  },
  {
   "cell_type": "code",
   "execution_count": 79,
   "metadata": {},
   "outputs": [
    {
     "name": "stdout",
     "output_type": "stream",
     "text": [
      "[0, 1, 8, 27, 64, 125, 216, 343, 512, 729, 1000]\n",
      "[0, 1, 8, 27, 64, 125, 216, 343, 512, 729, 1000]\n"
     ]
    }
   ],
   "source": [
    "myList = []\n",
    "x = 0\n",
    "y = 0\n",
    "\n",
    "while x < 11:\n",
    "    myList.append(x**3)\n",
    "    x += 1\n",
    "\n",
    "print(myList)\n",
    "\n",
    "newlist = [y**3 for y in range(11)]\n",
    "\n",
    "print(newlist)\n",
    "\n",
    "\n"
   ]
  },
  {
   "cell_type": "markdown",
   "metadata": {},
   "source": [
    "8\\. Nested list comprehension\n",
    "\n",
    "A Pythagorean triple is an integer solution to the Pythagorean theorem $a^2+b^2=c^2$. The first Pythagorean triple is (3,4,5). Find and put in a tuple all unique Pythagorean triples for the positive integers a, b and c less than 100."
   ]
  },
  {
   "cell_type": "code",
   "execution_count": 51,
   "metadata": {},
   "outputs": [
    {
     "name": "stdout",
     "output_type": "stream",
     "text": [
      "([3, 4, 5], [5, 12, 13], [6, 8, 10], [7, 24, 25], [8, 15, 17], [9, 12, 15], [9, 40, 41], [10, 24, 26], [11, 60, 61], [12, 16, 20], [12, 35, 37], [13, 84, 85], [14, 48, 50], [15, 20, 25], [15, 36, 39], [16, 30, 34], [16, 63, 65], [18, 24, 30], [18, 80, 82], [20, 21, 29], [20, 48, 52], [21, 28, 35], [21, 72, 75], [24, 32, 40], [24, 45, 51], [24, 70, 74], [25, 60, 65], [27, 36, 45], [28, 45, 53], [30, 40, 50], [30, 72, 78], [32, 60, 68], [33, 44, 55], [33, 56, 65], [35, 84, 91], [36, 48, 60], [36, 77, 85], [39, 52, 65], [39, 80, 89], [40, 42, 58], [40, 75, 85], [42, 56, 70], [45, 60, 75], [48, 55, 73], [48, 64, 80], [51, 68, 85], [54, 72, 90], [57, 76, 95], [60, 63, 87], [65, 72, 97])\n"
     ]
    }
   ],
   "source": [
    "import numpy as np\n",
    "\n",
    "# iteration = 0               # Number of unique triples\n",
    "solutions = ()\n",
    "\n",
    "for a in range(1, 100):\n",
    "    for b in range(a, 100):\n",
    "        c = np.sqrt(a**2 + b**2)\n",
    "        if(c%1 == 0 and a != 0 and b!=0 and c < 100):\n",
    "            # iteration += 1 \n",
    "            #print(\"Iteration: \", iteration ,\" a = \" , a, \", b = \", b, \", c = \", c)\n",
    "            solution = [a,b,int(c)]\n",
    "            solutions += (solution, )   # To add an array inside a tuple\n",
    "\n",
    "print(solutions)\n"
   ]
  },
  {
   "cell_type": "markdown",
   "metadata": {},
   "source": [
    "9\\. Normalization\n",
    "\n",
    "Write a function that takes a tuple of numbers and returns it with the entries normalized to one"
   ]
  },
  {
   "cell_type": "code",
   "execution_count": 16,
   "metadata": {},
   "outputs": [
    {
     "name": "stdout",
     "output_type": "stream",
     "text": [
      "[0.08181818181818182, 0.022727272727272728, 0.07727272727272727, 0.09545454545454546, 0.01818181818181818, 0.015151515151515152, 0.08181818181818182, 0.04242424242424243, 0.12878787878787878, 0.03636363636363636, 0.004545454545454545, 0.12424242424242424, 0.03636363636363636, 0.18181818181818182, 0.05303030303030303]\n",
      "Normalized to :  1.0\n"
     ]
    }
   ],
   "source": [
    "a = (54, 15, 51, 63, 12, 10, 54, 28, 85, 24, 3, 82, 24, 120, 35)\n",
    "\n",
    "def normalizer(x):\n",
    "    sum = 0\n",
    "    newSum = 0\n",
    "    normalizedArray = []\n",
    "    for i in range(len(x)):\n",
    "        sum += x[i]\n",
    "    \n",
    "    for j in range(len(x)):\n",
    "        normalizedArray.append(x[j]/sum)\n",
    "\n",
    "    for k in range(len(normalizedArray)):\n",
    "        newSum += normalizedArray[k]\n",
    "\n",
    "    print(normalizedArray)\n",
    "    print(\"Normalized to : \" , newSum)\n",
    "\n",
    "    \n",
    "\n",
    "\n",
    "\n",
    "normalizer(a)"
   ]
  }
 ],
 "metadata": {
  "kernelspec": {
   "display_name": "Python 3 (ipykernel)",
   "language": "python",
   "name": "python3"
  },
  "language_info": {
   "codemirror_mode": {
    "name": "ipython",
    "version": 3
   },
   "file_extension": ".py",
   "mimetype": "text/x-python",
   "name": "python",
   "nbconvert_exporter": "python",
   "pygments_lexer": "ipython3",
   "version": "3.12.4"
  }
 },
 "nbformat": 4,
 "nbformat_minor": 2
}
